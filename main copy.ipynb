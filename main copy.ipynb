{
 "cells": [
  {
   "cell_type": "markdown",
   "metadata": {},
   "source": [
    "# Swiggy Top Rated Restaurants in Delhi"
   ]
  },
  {
   "cell_type": "markdown",
   "metadata": {},
   "source": [
    "\n",
    "- In this web scraping project we'll be scraping a list of Top Rated restaurants in Delhi from Swiggy's website. Swiggy is an Indian online food ordering and delivery platform. Here is the link - https://www.swiggy.com/city/delhi/top-rated-collection\n",
    "\n",
    "- We'll get a list of top rated restaurants in Delhi on Swiggy, and for each restaurant we'll grab name, cuisine, rating, price for two, and URL.\n",
    "\n",
    "- The list will be stored in a csv file with format:\n",
    "\n",
    "```\n",
    "name,cuisine,rating,price_two,url\n",
    "Third Wave Coffee Roasters,\"Beverages, Pizzas\",4.8,₹400 FOR TWO,https://swiggy.com/restaurants/third-wave-coffee-roasters-connaught-place-delhi-554643\n",
    "Makery- Healthy Meal Bowls,\"Healthy Food, Salads\",4.7,₹800 FOR TWO,https://swiggy.com/restaurants/makery-healthy-meal-bowls-khan-market-delhi-491839\n",
    "```\n",
    "\n"
   ]
  },
  {
   "cell_type": "markdown",
   "metadata": {},
   "source": [
    "##### Importing required packages"
   ]
  },
  {
   "cell_type": "code",
   "execution_count": 31,
   "metadata": {},
   "outputs": [],
   "source": [
    "import requests\n",
    "from bs4 import BeautifulSoup\n",
    "import pandas as pd"
   ]
  },
  {
   "cell_type": "markdown",
   "metadata": {},
   "source": [
    "##### Using Requests to get the page and BeautifulSoup to parse through the page content"
   ]
  },
  {
   "cell_type": "code",
   "execution_count": 32,
   "metadata": {},
   "outputs": [],
   "source": [
    "my_header = {'User-Agent':'Mozilla/5.0 (Windows NT 10.0; Win64; x64) AppleWebKit/537.36 (KHTML, like Gecko) Chrome/103.0.0.0 Safari/537.36'}\n",
    "rest_page_url= 'https://www.swiggy.com/city/delhi/top-rated-collection?page=1'\n",
    "\n",
    "response = requests.get(rest_page_url, headers=my_header)\n",
    "\n",
    "if response.status_code != 200:\n",
    "    raise Exception('Failed to load page {}'.format(rest_page_url))\n",
    "\n",
    "page_contents= response.text\n",
    "doc = BeautifulSoup(page_contents, 'html.parser')"
   ]
  },
  {
   "cell_type": "markdown",
   "metadata": {},
   "source": [
    "##### Getting required information tags"
   ]
  },
  {
   "cell_type": "code",
   "execution_count": 33,
   "metadata": {},
   "outputs": [],
   "source": [
    "rest_name_tag= doc.find_all('div', {'class': 'nA6kb'})"
   ]
  },
  {
   "cell_type": "code",
   "execution_count": 34,
   "metadata": {},
   "outputs": [
    {
     "data": {
      "text/plain": [
       "[<div class=\"nA6kb\">HRX by Eatfit</div>,\n",
       " <div class=\"nA6kb\">Kwality Walls Frozen Dessert and Ice Cream Shop</div>,\n",
       " <div class=\"nA6kb\">Blue Tokai Coffee Roasters</div>,\n",
       " <div class=\"nA6kb\">AMAZING CAKE 24 7 COM</div>,\n",
       " <div class=\"nA6kb\">Food N Chill</div>]"
      ]
     },
     "execution_count": 34,
     "metadata": {},
     "output_type": "execute_result"
    }
   ],
   "source": [
    "rest_name_tag[:5]"
   ]
  },
  {
   "cell_type": "code",
   "execution_count": 35,
   "metadata": {},
   "outputs": [
    {
     "data": {
      "text/plain": [
       "['HRX by Eatfit',\n",
       " 'Kwality Walls Frozen Dessert and Ice Cream Shop',\n",
       " 'Blue Tokai Coffee Roasters',\n",
       " 'AMAZING CAKE 24 7 COM',\n",
       " 'Food N Chill']"
      ]
     },
     "execution_count": 35,
     "metadata": {},
     "output_type": "execute_result"
    }
   ],
   "source": [
    "rest_names= []\n",
    "\n",
    "for tag in rest_name_tag:\n",
    "    rest_names.append(tag.text)\n",
    "rest_names[:5]"
   ]
  },
  {
   "cell_type": "code",
   "execution_count": 36,
   "metadata": {},
   "outputs": [],
   "source": [
    "rest_cuisine_tag= doc.find_all('div', {'class':'_1gURR'})"
   ]
  },
  {
   "cell_type": "code",
   "execution_count": 37,
   "metadata": {},
   "outputs": [
    {
     "data": {
      "text/plain": [
       "[<div class=\"_1gURR\" title=\"Healthy Food, Salads, Keto\">Healthy Food, Salads, Keto</div>,\n",
       " <div class=\"_1gURR\" title=\"Ice Cream, Desserts\">Ice Cream, Desserts</div>,\n",
       " <div class=\"_1gURR\" title=\"Beverages, Desserts, Healthy Food, Bakery\">Beverages, Desserts, Healthy Food, Bakery</div>,\n",
       " <div class=\"_1gURR\" title=\"Bakery, Desserts\">Bakery, Desserts</div>,\n",
       " <div class=\"_1gURR\" title=\"Indian, Chinese\">Indian, Chinese</div>]"
      ]
     },
     "execution_count": 37,
     "metadata": {},
     "output_type": "execute_result"
    }
   ],
   "source": [
    "rest_cuisine_tag[:5]"
   ]
  },
  {
   "cell_type": "code",
   "execution_count": 38,
   "metadata": {},
   "outputs": [
    {
     "data": {
      "text/plain": [
       "['Healthy Food, Salads, Keto',\n",
       " 'Ice Cream, Desserts',\n",
       " 'Beverages, Desserts, Healthy Food, Bakery',\n",
       " 'Bakery, Desserts',\n",
       " 'Indian, Chinese']"
      ]
     },
     "execution_count": 38,
     "metadata": {},
     "output_type": "execute_result"
    }
   ],
   "source": [
    "rest_cuisine = []\n",
    "for tag in rest_cuisine_tag:\n",
    "    rest_cuisine.append(tag.text.strip())\n",
    "rest_cuisine[:5]"
   ]
  },
  {
   "cell_type": "code",
   "execution_count": 39,
   "metadata": {},
   "outputs": [],
   "source": [
    "rest_det_tag= doc.find_all('div', {'class':'_3Mn31'})"
   ]
  },
  {
   "cell_type": "code",
   "execution_count": 52,
   "metadata": {},
   "outputs": [
    {
     "data": {
      "text/plain": [
       "[<div class=\"_3Mn31\"><div class=\"_9uwBC wY0my\"><span class=\"icon-star _537e4\"></span><span>5.0</span></div><div>•</div><div>50 MINS</div><div>•</div><div class=\"nVWSi\">₹270 FOR TWO</div></div>,\n",
       " <div class=\"_3Mn31\"><div class=\"_9uwBC wY0my\"><span class=\"icon-star _537e4\"></span><span>4.7</span></div><div>•</div><div>52 MINS</div><div>•</div><div class=\"nVWSi\">₹200 FOR TWO</div></div>,\n",
       " <div class=\"_3Mn31\"><div class=\"_9uwBC wY0my\"><span class=\"icon-star _537e4\"></span><span>4.7</span></div><div>•</div><div>37 MINS</div><div>•</div><div class=\"nVWSi\">₹500 FOR TWO</div></div>,\n",
       " <div class=\"_3Mn31\"><div class=\"_9uwBC wY0my\"><span class=\"icon-star _537e4\"></span><span>4.6</span></div><div>•</div><div>62 MINS</div><div>•</div><div class=\"nVWSi\">₹300 FOR TWO</div></div>,\n",
       " <div class=\"_3Mn31\"><div class=\"_9uwBC wY0my\"><span class=\"icon-star _537e4\"></span><span>4.6</span></div><div>•</div><div>62 MINS</div><div>•</div><div class=\"nVWSi\">₹200 FOR TWO</div></div>]"
      ]
     },
     "execution_count": 52,
     "metadata": {},
     "output_type": "execute_result"
    }
   ],
   "source": [
    "rest_det_tag[:5]"
   ]
  },
  {
   "cell_type": "code",
   "execution_count": 53,
   "metadata": {},
   "outputs": [
    {
     "data": {
      "text/plain": [
       "'5.0•50 MINS•₹270 FOR TWO'"
      ]
     },
     "execution_count": 53,
     "metadata": {},
     "output_type": "execute_result"
    }
   ],
   "source": [
    "rest_det_tag[0].text.strip()"
   ]
  },
  {
   "cell_type": "code",
   "execution_count": 41,
   "metadata": {},
   "outputs": [
    {
     "data": {
      "text/plain": [
       "[5.0, 4.7, 4.7, 4.6, 4.6]"
      ]
     },
     "execution_count": 41,
     "metadata": {},
     "output_type": "execute_result"
    }
   ],
   "source": [
    "rest_rating = []\n",
    "for tag in rest_det_tag:\n",
    "    tag = tag.text.strip()\n",
    "    rest_rating.append(float(tag[0:3]))\n",
    "rest_rating [:5]"
   ]
  },
  {
   "cell_type": "code",
   "execution_count": 42,
   "metadata": {},
   "outputs": [
    {
     "data": {
      "text/plain": [
       "[270, 200, 500, 300, 200]"
      ]
     },
     "execution_count": 42,
     "metadata": {},
     "output_type": "execute_result"
    }
   ],
   "source": [
    "rest_price_two = []\n",
    "for tag in rest_det_tag:\n",
    "    tag = tag.text.strip()\n",
    "    rest_price_two.append(int(tag[13:-8]))\n",
    "rest_price_two[:5]"
   ]
  },
  {
   "cell_type": "code",
   "execution_count": 43,
   "metadata": {},
   "outputs": [],
   "source": [
    "url_selection_class = \"_1j_Yo\"\n",
    "url_tags= doc.find_all('a', {'class': url_selection_class})"
   ]
  },
  {
   "cell_type": "code",
   "execution_count": 54,
   "metadata": {},
   "outputs": [
    {
     "data": {
      "text/plain": [
       "[<a class=\"_1j_Yo\" href=\"/restaurants/hrx-by-eatfit-payara-lal-road-karol-bagh-delhi-558794\"><div class=\"_1HEuF\"><div class=\"_3FR5S\"><div class=\"efp8s\"><img alt=\"HRX by Eatfit\" class=\"_12_oN\" height=\"160\" width=\"254\"/></div><div class=\"_3Ztcd\"><div class=\"nA6kb\">HRX by Eatfit</div><div class=\"_1gURR\" title=\"Healthy Food, Salads, Keto\">Healthy Food, Salads, Keto</div></div><div class=\"_3Mn31\"><div class=\"_9uwBC wY0my\"><span class=\"icon-star _537e4\"></span><span>5.0</span></div><div>•</div><div>50 MINS</div><div>•</div><div class=\"nVWSi\">₹270 FOR TWO</div></div><div class=\"Zlfdx\"><span class=\"icon-offer-filled _2fujs\"></span><span class=\"sNAfh\">10% off | Use BFBINGE</span></div></div><div class=\"_3B2qG\"><span aria-label=\"Open\" class=\"_2ECk4 _24tlh\" role=\"button\">Quick View</span></div></div></a>,\n",
       " <a class=\"_1j_Yo\" href=\"/restaurants/kwality-walls-frozen-dessert-and-ice-cream-shop-laxmi-nagar-delhi-569671\"><div class=\"_1HEuF\"><div class=\"_3FR5S\"><div class=\"efp8s\"><img alt=\"Kwality Walls Frozen Dessert and Ice Cream Shop\" class=\"_12_oN\" height=\"160\" width=\"254\"/></div><div class=\"_3Ztcd\"><div class=\"nA6kb\">Kwality Walls Frozen Dessert and Ice Cream Shop</div><div class=\"_1gURR\" title=\"Ice Cream, Desserts\">Ice Cream, Desserts</div></div><div class=\"_3Mn31\"><div class=\"_9uwBC wY0my\"><span class=\"icon-star _537e4\"></span><span>4.7</span></div><div>•</div><div>52 MINS</div><div>•</div><div class=\"nVWSi\">₹200 FOR TWO</div></div><div class=\"Zlfdx\"><span class=\"icon-offer-filled _2fujs\"></span><span class=\"sNAfh\">50% off | Use WELCOME50</span></div></div><div class=\"_3B2qG\"><span aria-label=\"Open\" class=\"_2ECk4 _24tlh\" role=\"button\">Quick View</span></div></div></a>]"
      ]
     },
     "execution_count": 54,
     "metadata": {},
     "output_type": "execute_result"
    }
   ],
   "source": [
    "url_tags[:2]"
   ]
  },
  {
   "cell_type": "code",
   "execution_count": 44,
   "metadata": {},
   "outputs": [
    {
     "data": {
      "text/plain": [
       "['https://swiggy.com/restaurants/hrx-by-eatfit-payara-lal-road-karol-bagh-delhi-558794',\n",
       " 'https://swiggy.com/restaurants/kwality-walls-frozen-dessert-and-ice-cream-shop-laxmi-nagar-delhi-569671',\n",
       " 'https://swiggy.com/restaurants/blue-tokai-coffee-roasters-connaught-place-delhi-378311',\n",
       " 'https://swiggy.com/restaurants/amazing-cake-24-7-com-mayur-vihar-delhi-513961',\n",
       " 'https://swiggy.com/restaurants/food-n-chill-karol-bagh-shadipur-delhi-186853']"
      ]
     },
     "execution_count": 44,
     "metadata": {},
     "output_type": "execute_result"
    }
   ],
   "source": [
    "rest_urls=[]\n",
    "base_url = 'https://swiggy.com'\n",
    "for tag in url_tags:\n",
    "    rest_urls.append(base_url + tag['href'])\n",
    "rest_urls[:5]"
   ]
  },
  {
   "cell_type": "markdown",
   "metadata": {},
   "source": [
    "##### Putting all information in a dictionary"
   ]
  },
  {
   "cell_type": "code",
   "execution_count": 55,
   "metadata": {},
   "outputs": [],
   "source": [
    "rest_dict = {\n",
    "    'name': rest_names,\n",
    "    'cuisine': rest_cuisine,\n",
    "    'rating': rest_rating,\n",
    "    'price_two': rest_price_two,\n",
    "    'url': rest_urls\n",
    "    }"
   ]
  },
  {
   "cell_type": "markdown",
   "metadata": {},
   "source": [
    "##### Creating a data frame using Pandas"
   ]
  },
  {
   "cell_type": "code",
   "execution_count": 58,
   "metadata": {},
   "outputs": [],
   "source": [
    "rest_df = pd.DataFrame(rest_dict)"
   ]
  },
  {
   "cell_type": "code",
   "execution_count": 70,
   "metadata": {},
   "outputs": [
    {
     "data": {
      "text/html": [
       "<div>\n",
       "<style scoped>\n",
       "    .dataframe tbody tr th:only-of-type {\n",
       "        vertical-align: middle;\n",
       "    }\n",
       "\n",
       "    .dataframe tbody tr th {\n",
       "        vertical-align: top;\n",
       "    }\n",
       "\n",
       "    .dataframe thead th {\n",
       "        text-align: right;\n",
       "    }\n",
       "</style>\n",
       "<table border=\"1\" class=\"dataframe\">\n",
       "  <thead>\n",
       "    <tr style=\"text-align: right;\">\n",
       "      <th></th>\n",
       "      <th>name</th>\n",
       "      <th>cuisine</th>\n",
       "      <th>rating</th>\n",
       "      <th>price_two</th>\n",
       "      <th>url</th>\n",
       "    </tr>\n",
       "  </thead>\n",
       "  <tbody>\n",
       "    <tr>\n",
       "      <th>0</th>\n",
       "      <td>HRX by Eatfit</td>\n",
       "      <td>Healthy Food, Salads, Keto</td>\n",
       "      <td>5.0</td>\n",
       "      <td>₹270 FOR TWO</td>\n",
       "      <td>https://swiggy.com/restaurants/hrx-by-eatfit-p...</td>\n",
       "    </tr>\n",
       "    <tr>\n",
       "      <th>1</th>\n",
       "      <td>Cheesecakes By CakeZone</td>\n",
       "      <td>Desserts, Bakery</td>\n",
       "      <td>4.9</td>\n",
       "      <td>₹200 FOR TWO</td>\n",
       "      <td>https://swiggy.com/restaurants/cheesecakes-by-...</td>\n",
       "    </tr>\n",
       "    <tr>\n",
       "      <th>2</th>\n",
       "      <td>Third Wave Coffee Roasters</td>\n",
       "      <td>Beverages, Pizzas</td>\n",
       "      <td>4.8</td>\n",
       "      <td>₹400 FOR TWO</td>\n",
       "      <td>https://swiggy.com/restaurants/third-wave-coff...</td>\n",
       "    </tr>\n",
       "    <tr>\n",
       "      <th>3</th>\n",
       "      <td>Kwality Walls Frozen Dessert and Ice Cream Shop</td>\n",
       "      <td>Ice Cream, Desserts</td>\n",
       "      <td>4.7</td>\n",
       "      <td>₹200 FOR TWO</td>\n",
       "      <td>https://swiggy.com/restaurants/kwality-walls-f...</td>\n",
       "    </tr>\n",
       "    <tr>\n",
       "      <th>4</th>\n",
       "      <td>Blue Tokai Coffee Roasters</td>\n",
       "      <td>Beverages, Desserts, Healthy Food, Bakery</td>\n",
       "      <td>4.7</td>\n",
       "      <td>₹500 FOR TWO</td>\n",
       "      <td>https://swiggy.com/restaurants/blue-tokai-coff...</td>\n",
       "    </tr>\n",
       "  </tbody>\n",
       "</table>\n",
       "</div>"
      ],
      "text/plain": [
       "                                              name  \\\n",
       "0                                    HRX by Eatfit   \n",
       "1                          Cheesecakes By CakeZone   \n",
       "2                       Third Wave Coffee Roasters   \n",
       "3  Kwality Walls Frozen Dessert and Ice Cream Shop   \n",
       "4                       Blue Tokai Coffee Roasters   \n",
       "\n",
       "                                     cuisine rating     price_two  \\\n",
       "0                 Healthy Food, Salads, Keto    5.0  ₹270 FOR TWO   \n",
       "1                           Desserts, Bakery    4.9  ₹200 FOR TWO   \n",
       "2                          Beverages, Pizzas    4.8  ₹400 FOR TWO   \n",
       "3                        Ice Cream, Desserts    4.7  ₹200 FOR TWO   \n",
       "4  Beverages, Desserts, Healthy Food, Bakery    4.7  ₹500 FOR TWO   \n",
       "\n",
       "                                                 url  \n",
       "0  https://swiggy.com/restaurants/hrx-by-eatfit-p...  \n",
       "1  https://swiggy.com/restaurants/cheesecakes-by-...  \n",
       "2  https://swiggy.com/restaurants/third-wave-coff...  \n",
       "3  https://swiggy.com/restaurants/kwality-walls-f...  \n",
       "4  https://swiggy.com/restaurants/blue-tokai-coff...  "
      ]
     },
     "execution_count": 70,
     "metadata": {},
     "output_type": "execute_result"
    }
   ],
   "source": [
    "rest_df[:5]"
   ]
  },
  {
   "cell_type": "markdown",
   "metadata": {},
   "source": [
    "##### Saving in a csv file"
   ]
  },
  {
   "cell_type": "code",
   "execution_count": 64,
   "metadata": {},
   "outputs": [],
   "source": [
    "rest_df.to_csv('Rest_delhi.csv', index = None)"
   ]
  },
  {
   "cell_type": "markdown",
   "metadata": {},
   "source": [
    "##### Now putting code in a loop to get data from all pages"
   ]
  },
  {
   "cell_type": "code",
   "execution_count": 63,
   "metadata": {},
   "outputs": [],
   "source": [
    "\n",
    "rest_names= []\n",
    "rest_urls=[]\n",
    "rest_cuisine=[]\n",
    "rest_rating= []\n",
    "rest_price_two= []\n",
    "\n",
    "for page in range (2):\n",
    "    \n",
    "    my_header = {'User-Agent':'Mozilla/5.0 (Windows NT 10.0; Win64; x64) AppleWebKit/537.36 (KHTML, like Gecko) Chrome/103.0.0.0 Safari/537.36'}\n",
    "    rest_page_url= 'https://www.swiggy.com/city/delhi/top-rated-collection?page='\n",
    "    \n",
    "    response = requests.get(rest_page_url+ str(page), headers=my_header)\n",
    "    \n",
    "    if response.status_code != 200:\n",
    "        raise Exception('Failed to load page {}'.format(rest_page_url))\n",
    "    \n",
    "    page_contents= response.text\n",
    "    doc = BeautifulSoup(page_contents, 'html.parser')\n",
    "    \n",
    "    \n",
    "    rest_name_tag= doc.find_all('div', {'class': 'nA6kb'})\n",
    "\n",
    "    for tag in rest_name_tag:\n",
    "        rest_names.append(tag.text)\n",
    "  \n",
    "      \n",
    "    rest_cuisine_tag= doc.find_all('div', {'class':'_1gURR'})\n",
    "\n",
    "    for tag in rest_cuisine_tag:\n",
    "        rest_cuisine.append(tag.text.strip())\n",
    "    rest_cuisine\n",
    "     \n",
    "    \n",
    "    rest_det_tag= doc.find_all('div', {'class':'_3Mn31'})\n",
    "    \n",
    "    for tag in rest_det_tag:\n",
    "        tag = tag.text.strip()\n",
    "        rest_rating.append(float(tag[0:3]))\n",
    "    rest_rating \n",
    "\n",
    "    for tag in rest_det_tag:\n",
    "        tag = tag.text.strip()\n",
    "        rest_price_two.append(tag[12:])\n",
    "    rest_price_two\n",
    "    \n",
    "\n",
    "    url_selection_class = \"_1j_Yo\"\n",
    "    url_tags= doc.find_all('a', {'class': url_selection_class})\n",
    "    \n",
    "    base_url = 'https://swiggy.com'\n",
    "    for tag in url_tags:\n",
    "        rest_urls.append(base_url + tag['href'])\n",
    "        \n",
    "\n",
    "    rest_dict = {\n",
    "    'name': rest_names,\n",
    "    'cuisine': rest_cuisine,\n",
    "    'rating': rest_rating,\n",
    "    'price_two': rest_price_two,\n",
    "    'url': rest_urls\n",
    "    }\n",
    "    \n",
    "    \n",
    "    rest_df = pd.DataFrame(rest_dict)\n",
    "    rest_df.to_csv('Rest_delhi.csv', index = None)"
   ]
  },
  {
   "cell_type": "markdown",
   "metadata": {},
   "source": [
    "### Final code"
   ]
  },
  {
   "cell_type": "code",
   "execution_count": 1,
   "metadata": {},
   "outputs": [],
   "source": [
    "import requests\n",
    "from bs4 import BeautifulSoup\n",
    "import pandas as pd\n",
    "\n",
    "rest_names= []\n",
    "rest_urls=[]\n",
    "rest_cuisine=[]\n",
    "rest_rating= []\n",
    "rest_price_two= []\n",
    "\n",
    "for page in range (60):\n",
    "    \n",
    "    my_header = {'User-Agent':'Mozilla/5.0 (Windows NT 10.0; Win64; x64) AppleWebKit/537.36 (KHTML, like Gecko) Chrome/103.0.0.0 Safari/537.36'}\n",
    "    rest_page_url= 'https://www.swiggy.com/city/delhi/top-rated-collection?page='\n",
    "    \n",
    "    response = requests.get(rest_page_url+ str(page), headers=my_header)\n",
    "    #check for response status\n",
    "    \n",
    "    if response.status_code != 200:\n",
    "        raise Exception('Failed to load page {}'.format(rest_page_url))\n",
    "    \n",
    "    #parse using BeautifulSoup\n",
    "    page_contents= response.text\n",
    "    doc = BeautifulSoup(page_contents, 'html.parser')\n",
    "    \n",
    "    #getting names\n",
    "    rest_name_tag= doc.find_all('div', {'class': 'nA6kb'})\n",
    "\n",
    "    for tag in rest_name_tag:\n",
    "        rest_names.append(tag.text)\n",
    "  \n",
    "    #getting cuisine    \n",
    "    rest_cuisine_tag= doc.find_all('div', {'class':'_1gURR'})\n",
    "\n",
    "    for tag in rest_cuisine_tag:\n",
    "        rest_cuisine.append(tag.text.strip())\n",
    "    rest_cuisine\n",
    "     \n",
    "    #getting rating and price for two\n",
    "    rest_det_tag= doc.find_all('div', {'class':'_3Mn31'})\n",
    "    \n",
    "    for tag in rest_det_tag:\n",
    "        tag = tag.text.strip()\n",
    "        rest_rating.append(tag[0:3])\n",
    "    rest_rating \n",
    "\n",
    "    for tag in rest_det_tag:\n",
    "        tag = tag.text.strip()\n",
    "        rest_price_two.append(tag[12:])\n",
    "    rest_price_two\n",
    "    \n",
    "    #getting urls \n",
    "    url_selection_class = \"_1j_Yo\"\n",
    "    url_tags= doc.find_all('a', {'class': url_selection_class})\n",
    "    \n",
    "    base_url = 'https://swiggy.com'\n",
    "    for tag in url_tags:\n",
    "        rest_urls.append(base_url + tag['href'])\n",
    "    \n",
    "    #putting all info in dict \n",
    "    rest_dict = {\n",
    "    'name': rest_names,\n",
    "    'cuisine': rest_cuisine,\n",
    "    'rating': rest_rating,\n",
    "    'price_two': rest_price_two,\n",
    "    'url': rest_urls\n",
    "    }\n",
    "    \n",
    "    #creating a DataFrame\n",
    "    rest_df = pd.DataFrame(rest_dict)\n",
    "    \n",
    "    #putting all in csv\n",
    "    rest_df.to_csv('Rest_delhi.csv', index = None)"
   ]
  },
  {
   "cell_type": "markdown",
   "metadata": {},
   "source": [
    "Ciao amico!"
   ]
  }
 ],
 "metadata": {
  "kernelspec": {
   "display_name": "Python 3.9.7 64-bit",
   "language": "python",
   "name": "python3"
  },
  "language_info": {
   "codemirror_mode": {
    "name": "ipython",
    "version": 3
   },
   "file_extension": ".py",
   "mimetype": "text/x-python",
   "name": "python",
   "nbconvert_exporter": "python",
   "pygments_lexer": "ipython3",
   "version": "3.9.7"
  },
  "orig_nbformat": 4,
  "vscode": {
   "interpreter": {
    "hash": "d23bc0f3468e1047e4a1919b1581627b435af5490757bdf5942c255dc2c18c08"
   }
  }
 },
 "nbformat": 4,
 "nbformat_minor": 2
}
